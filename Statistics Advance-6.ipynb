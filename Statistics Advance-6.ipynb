{
 "cells": [
  {
   "cell_type": "markdown",
   "id": "00269f83-b4f1-49c8-925d-e190b084b9b2",
   "metadata": {},
   "source": [
    "### Q1. Explain the assumptions required to use ANOVA and provide examples of violations that could impact the validity of the results.\n",
    "\n",
    "ANOVA (Analysis of Variance) requires the following assumptions:\n",
    "\n",
    "1. **Independence**: Observations within each group must be independent of each other. Violations might occur if the data were collected in a way that introduces dependence, such as repeated measures without accounting for this in the model.\n",
    "\n",
    "2. **Normality**: The data within each group should be approximately normally distributed. Violations occur if the data is heavily skewed or has outliers, which could affect the results of the ANOVA test.\n",
    "\n",
    "3. **Homogeneity of Variances**: The variances among the groups should be approximately equal. Violations occur if one group has much higher or lower variance compared to others, impacting the test's reliability.\n",
    "\n",
    "**Examples of Violations**:\n",
    "- **Independence**: Using paired data without proper adjustments.\n",
    "- **Normality**: Using data with severe skewness or outliers.\n",
    "- **Homogeneity of Variances**: Using data where group variances differ significantly."
   ]
  },
  {
   "cell_type": "markdown",
   "id": "e69656c3-371f-4a05-ab84-aaeaf99a512d",
   "metadata": {},
   "source": []
  },
  {
   "cell_type": "markdown",
   "id": "7f958fce-9e04-4f16-bf2f-70aa83f744ef",
   "metadata": {},
   "source": [
    "### Q2. What are the three types of ANOVA, and in what situations would each be used?\n",
    "\n",
    "1. **One-Way ANOVA**: Used when comparing the means of three or more independent groups based on one factor. Example: Comparing test scores from three different teaching methods.\n",
    "\n",
    "2. **Two-Way ANOVA**: Used when comparing the means across two factors, allowing for the analysis of interaction effects between the factors. Example: Evaluating the effects of diet and exercise on weight loss.\n",
    "\n",
    "3. **Repeated Measures ANOVA**: Used when comparing means where the same subjects are measured multiple times under different conditions. Example: Measuring blood pressure of patients before and after treatment at different times.\n",
    "\n",
    "### Q3. What is the partitioning of variance in ANOVA, and why is it important to understand this concept?\n",
    "\n",
    "In ANOVA, variance is partitioned into:\n",
    "- **Total Sum of Squares (SST)**: The total variability in the data.\n",
    "- **Explained Sum of Squares (SSE)**: The variability explained by the model (between-group variability).\n",
    "- **Residual Sum of Squares (SSR)**: The variability within groups (error or unexplained variability).\n",
    "\n",
    "Understanding this concept is crucial because it helps in determining how much of the total variability is accounted for by the model versus how much remains unexplained, which is key to interpreting the ANOVA results."
   ]
  },
  {
   "cell_type": "markdown",
   "id": "24578355-a91a-4fa9-946b-138630fd0ee8",
   "metadata": {},
   "source": []
  },
  {
   "cell_type": "markdown",
   "id": "567fc816-8dfa-4668-ad57-34910f240486",
   "metadata": {},
   "source": [
    "### Q4. How would you calculate the total sum of squares (SST), explained sum of squares (SSE), and residual sum of squares (SSR) in a one-way ANOVA using Python?\n",
    "\n",
    "```python\n",
    "import numpy as np\n",
    "import pandas as pd\n",
    "from scipy import stats\n",
    "\n",
    "# Sample data\n",
    "data = {\n",
    "    'Group': ['A']*10 + ['B']*10 + ['C']*10,\n",
    "    'Value': np.random.normal(0, 1, 30)\n",
    "}\n",
    "df = pd.DataFrame(data)\n",
    "\n",
    "# Calculate group means\n",
    "group_means = df.groupby('Group')['Value'].mean()\n",
    "overall_mean = df['Value'].mean()\n",
    "\n",
    "# Calculate SST (Total Sum of Squares)\n",
    "SST = ((df['Value'] - overall_mean) ** 2).sum()\n",
    "\n",
    "# Calculate SSE (Explained Sum of Squares)\n",
    "SSE = ((df.groupby('Group')['Value'].mean() - overall_mean) ** 2).sum() * df.groupby('Group').size()\n",
    "\n",
    "# Calculate SSR (Residual Sum of Squares)\n",
    "SSR = SST - SSE\n",
    "\n",
    "print(f'Total Sum of Squares (SST): {SST}')\n",
    "print(f'Explained Sum of Squares (SSE): {SSE}')\n",
    "print(f'Residual Sum of Squares (SSR): {SSR}')"
   ]
  },
  {
   "cell_type": "markdown",
   "id": "d9b1054c-027b-4169-b88b-1e2a89c065bb",
   "metadata": {},
   "source": []
  },
  {
   "cell_type": "markdown",
   "id": "db65a062-7a1a-4a69-a1e9-1107c01e38ab",
   "metadata": {},
   "source": [
    "### Q5. In a two-way ANOVA, how would you calculate the main effects and interaction effects using Python?\n",
    "\n",
    "To calculate main effects and interaction effects in a two-way ANOVA, you can use the `statsmodels` library in Python.\n",
    "\n",
    "Here’s how you can do it:\n",
    "\n",
    "```python\n",
    "import pandas as pd\n",
    "import statsmodels.api as sm\n",
    "from statsmodels.formula.api import ols\n",
    "\n",
    "# Create a sample dataset\n",
    "data = pd.DataFrame({\n",
    "    'Factor_A': ['Low', 'Low', 'High', 'High', 'Low', 'Low', 'High', 'High'],\n",
    "    'Factor_B': ['Type_1', 'Type_2', 'Type_1', 'Type_2', 'Type_1', 'Type_2', 'Type_1', 'Type_2'],\n",
    "    'Outcome': [25, 30, 35, 40, 20, 27, 37, 44]\n",
    "})\n",
    "\n",
    "# Fit the two-way ANOVA model\n",
    "model = ols('Outcome ~ C(Factor_A) + C(Factor_B) + C(Factor_A):C(Factor_B)', data=data).fit()\n",
    "\n",
    "# Perform the ANOVA\n",
    "anova_table = sm.stats.anova_lm(model, typ=2)\n",
    "print(anova_table)\n"
   ]
  },
  {
   "cell_type": "markdown",
   "id": "1f315346-f67a-40d3-81d5-3fabfb032089",
   "metadata": {},
   "source": []
  },
  {
   "cell_type": "markdown",
   "id": "033814c8-cb0f-42ad-8aa0-d8f2ffb68566",
   "metadata": {},
   "source": [
    "### Q6. Suppose you conducted a one-way ANOVA and obtained an F-statistic of 5.23 and a p-value of 0.02. What can you conclude about the differences between the groups, and how would you interpret these results?\n",
    "\n",
    "The p-value of 0.02 is less than the common significance level of 0.05, which means you can reject the null hypothesis. This suggests that there is a statistically significant difference between the group means. However, the ANOVA does not tell you which groups differ from each other, so you may need to conduct a post-hoc test to determine the specific group differences."
   ]
  },
  {
   "cell_type": "markdown",
   "id": "17bb67b5-8c79-4acb-ab96-75ae9012765c",
   "metadata": {},
   "source": []
  },
  {
   "cell_type": "markdown",
   "id": "a4ada2c1-86ef-4318-985d-3c16f0fa765d",
   "metadata": {},
   "source": [
    "### Q7. In a repeated measures ANOVA, how would you handle missing data, and what are the potential consequences of using different methods to handle missing data?\n",
    "\n",
    "In a repeated measures ANOVA, missing data can be handled in several ways:\n",
    "\n",
    "- **Listwise Deletion**: Removing all data for any participant with missing values. This can lead to biased results if the data is not missing completely at random.\n",
    "- **Mean Imputation**: Replacing missing values with the mean of the available data. This can reduce variability and lead to underestimation of standard errors.\n",
    "- **Multiple Imputation**: Imputing missing data using multiple estimates and averaging the results. This is a more robust method that accounts for variability in missing data.\n",
    "\n",
    "Each method has different implications, and improper handling of missing data can lead to biased or incorrect conclusions."
   ]
  },
  {
   "cell_type": "markdown",
   "id": "a3dbac3e-2991-4478-9db8-674032a07250",
   "metadata": {},
   "source": []
  },
  {
   "cell_type": "markdown",
   "id": "62280fbf-a9cd-4685-935e-0f53d97d70f3",
   "metadata": {},
   "source": [
    "### Q8. What are some common post-hoc tests used after ANOVA, and when would you use each one? Provide an example of a situation where a post-hoc test might be necessary.\n",
    "\n",
    "Common post-hoc tests include:\n",
    "\n",
    "- **Tukey's HSD**: Used when you want to compare all pairwise group differences.\n",
    "- **Bonferroni Correction**: Used to adjust p-values when performing multiple comparisons to avoid Type I error.\n",
    "- **Scheffé Test**: A more conservative test used when comparing complex combinations of means.\n",
    "\n",
    "Example: After conducting a one-way ANOVA comparing the mean scores of students across three different teaching methods, if the ANOVA shows significant differences, you might perform Tukey's HSD to determine which pairs of teaching methods differ significantly."
   ]
  },
  {
   "cell_type": "markdown",
   "id": "912fa1d7-7802-438f-80f9-bceb5bb4373c",
   "metadata": {},
   "source": []
  },
  {
   "cell_type": "markdown",
   "id": "d2a648ee-58ec-453b-ae87-3e5972158b3b",
   "metadata": {},
   "source": [
    "### Q9. A researcher wants to compare the mean weight loss of three diets: A, B, and C. They collect data from 50 participants who were randomly assigned to one of the diets. Conduct a one-way ANOVA using Python to determine if there are any significant differences between the mean weight loss of the three diets. Report the F-statistic and p-value, and interpret the results.\n",
    "\n",
    "```python\n",
    "import pandas as pd\n",
    "import scipy.stats as stats\n",
    "\n",
    "# Example data\n",
    "data = {'Diet': ['A', 'A', 'A', 'B', 'B', 'B', 'C', 'C', 'C'],\n",
    "        'Weight_Loss': [5, 6, 7, 4, 5, 6, 3, 4, 5]}\n",
    "\n",
    "df = pd.DataFrame(data)\n",
    "\n",
    "# One-way ANOVA\n",
    "f_stat, p_value = stats.f_oneway(df[df['Diet'] == 'A']['Weight_Loss'],\n",
    "                                 df[df['Diet'] == 'B']['Weight_Loss'],\n",
    "                                 df[df['Diet'] == 'C']['Weight_Loss'])\n",
    "\n",
    "f_stat, p_value"
   ]
  },
  {
   "cell_type": "markdown",
   "id": "a27812fa-607b-4b9a-8d86-8fb31920408d",
   "metadata": {},
   "source": []
  },
  {
   "cell_type": "markdown",
   "id": "da0b0b05-7151-41d3-ad3a-034e0a89b691",
   "metadata": {},
   "source": [
    "### Q10. A company wants to know if there are any significant differences in the average time it takes to complete a task using three different software programs: Program A, Program B, and Program C. They randomly assign 30 employees to one of the programs and record the time it takes each employee to complete the task. Conduct a two-way ANOVA using Python to determine if there are any main effects or interaction effects between the software programs and employee experience level (novice vs. experienced). Report the F-statistics and p-values, and interpret the results.\n",
    "\n",
    "```python\n",
    "import pandas as pd\n",
    "import statsmodels.api as sm\n",
    "from statsmodels.formula.api import ols\n",
    "\n",
    "# Sample data\n",
    "data = pd.DataFrame({\n",
    "    'Program': ['A', 'A', 'A', 'B', 'B', 'B', 'C', 'C', 'C'] * 10,\n",
    "    'Experience': ['Novice', 'Experienced'] * 15,\n",
    "    'Time': [30, 25, 28, 35, 32, 29, 45, 38, 42] * 10\n",
    "})\n",
    "\n",
    "# Two-way ANOVA\n",
    "model = ols('Time ~ C(Program) + C(Experience) + C(Program):C(Experience)', data=data).fit()\n",
    "anova_table = sm.stats.anova_lm(model, typ=2)\n",
    "\n",
    "print(anova_table)\n"
   ]
  },
  {
   "cell_type": "markdown",
   "id": "5c0161fe-1b56-4b18-aa59-8eee739b36af",
   "metadata": {},
   "source": []
  },
  {
   "cell_type": "markdown",
   "id": "60d2509e-8b18-4f0d-913d-7c01a02a270e",
   "metadata": {},
   "source": [
    "### Q11. An educational researcher is interested in whether a new teaching method improves student test scores. They randomly assign 100 students to either the control group (traditional teaching method) or the experimental group (new teaching method) and administer a test at the end of the semester. Conduct a two-sample t-test using Python to determine if there are any significant differences in test scores between the two groups. If the results are significant, follow up with a post-hoc test to determine which group(s) differ significantly from each other.\n",
    "\n",
    "```python\n",
    "import numpy as np\n",
    "from scipy import stats\n",
    "\n",
    "# Sample data\n",
    "control_scores = np.random.normal(75, 10, 50)  # Control group (traditional)\n",
    "experimental_scores = np.random.normal(80, 10, 50)  # Experimental group (new method)\n",
    "\n",
    "# Two-sample t-test\n",
    "t_stat, p_value = stats.ttest_ind(control_scores, experimental_scores)\n",
    "\n",
    "print(f\"T-statistic: {t_stat}, P-value: {p_value}\")\n"
   ]
  },
  {
   "cell_type": "markdown",
   "id": "e18b5782-60d4-4851-a16d-6c160d8af3d9",
   "metadata": {},
   "source": []
  },
  {
   "cell_type": "markdown",
   "id": "92ae0baf-4d00-4589-89a2-77752813de0d",
   "metadata": {},
   "source": [
    "### Q12. A researcher wants to know if there are any significant differences in the average daily sales of three retail stores: Store A, Store B, and Store C. They randomly select 30 days and record the sales for each store on those days. Conduct a repeated measures ANOVA using Python to determine if there are any significant differences in sales between the three stores. If the results are significant, follow up with a post-hoc test to determine which store(s) differ significantly from each other.\n",
    "\n",
    "```python\n",
    "import pandas as pd\n",
    "import numpy as np\n",
    "import statsmodels.api as sm\n",
    "from statsmodels.formula.api import ols\n",
    "from statsmodels.stats.anova import AnovaRM\n",
    "\n",
    "# Sample data\n",
    "data = pd.DataFrame({\n",
    "    'Store': ['A', 'B', 'C'] * 30,\n",
    "    'Day': np.tile(range(1, 31), 3),\n",
    "    'Sales': np.random.normal(100, 10, 30).tolist() + np.random.normal(120, 10, 30).tolist() + np.random.normal(110, 10, 30).tolist()\n",
    "})\n",
    "\n",
    "# Repeated measures ANOVA\n",
    "aovrm = AnovaRM(data, 'Sales', 'Day', within=['Store']).fit()\n",
    "\n",
    "print(aovrm.summary())\n"
   ]
  },
  {
   "cell_type": "markdown",
   "id": "6197c5ae-6637-49bf-909e-9875e5818346",
   "metadata": {},
   "source": []
  },
  {
   "cell_type": "markdown",
   "id": "362df81b-55b1-45bb-b77d-fbefc1131fea",
   "metadata": {},
   "source": []
  }
 ],
 "metadata": {
  "kernelspec": {
   "display_name": "Python 3 (ipykernel)",
   "language": "python",
   "name": "python3"
  },
  "language_info": {
   "codemirror_mode": {
    "name": "ipython",
    "version": 3
   },
   "file_extension": ".py",
   "mimetype": "text/x-python",
   "name": "python",
   "nbconvert_exporter": "python",
   "pygments_lexer": "ipython3",
   "version": "3.12.5"
  }
 },
 "nbformat": 4,
 "nbformat_minor": 5
}
